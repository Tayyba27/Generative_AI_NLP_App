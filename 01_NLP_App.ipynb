{
 "cells": [
  {
   "attachments": {},
   "cell_type": "markdown",
   "metadata": {},
   "source": [
    "# Building a Generative AI Application with Gradio:\n",
    "\n",
    "- Gradio is the fast and converient way to demo your machine learning model with a friendly web interface directly in python."
   ]
  },
  {
   "attachments": {},
   "cell_type": "markdown",
   "metadata": {},
   "source": [
    "# NLP Tasks with a simple interface"
   ]
  },
  {
   "cell_type": "code",
   "execution_count": null,
   "metadata": {},
   "outputs": [],
   "source": [
    "import os\n",
    "import io\n",
    "from IPython.display import Image , display , HTML\n",
    "from PIL import Image\n",
    "import base64\n",
    "from dotenv import  load_dotenv , find_dotenv \n",
    "# read local . env file\n",
    "_ = load_dotenv(find_dotenv())\n",
    "hf_api_key = os.environ[\"HF_API_KEY\"]"
   ]
  },
  {
   "cell_type": "code",
   "execution_count": null,
   "metadata": {},
   "outputs": [],
   "source": [
    "# HELPER FUNCTIO\n",
    "import requests , json\n",
    "\n",
    "# Summarization endpoint\n",
    "def get_completion(input , parameters=None , ENDPOINT_URL= os.environ['HF_API_KEY']):\n",
    "    HEADERS = {\n",
    "        \"Authorization \" : f\"Bearer  {hf_api_key}\" ,\n",
    "        \"Content-Type \" : \"appliction/json\"\n",
    "    }\n",
    "    data = {\"input\" : input}\n",
    "    if parameters is not None:\n",
    "        data.update({\"parameters\" : parameters})\n",
    "    respones = requests.request(\"POST\" ,\n",
    "                                ENDPOINT_URL , headers = headers,\n",
    "                                data = json.dumps(data) \n",
    "                                  )   \n",
    "    return json.loada(response.content.decode(\"utf-8\")) "
   ]
  },
  {
   "attachments": {},
   "cell_type": "markdown",
   "metadata": {},
   "source": [
    "# Building  a test  summarization app"
   ]
  },
  {
   "cell_type": "code",
   "execution_count": null,
   "metadata": {},
   "outputs": [],
   "source": [
    "from transformers import pipline\n",
    "\n",
    "get_completion = pipline\n",
    "(\"summarization \", model== \"shleifer/distilbart-cnn-12-6\" )\n",
    "\n",
    "def summariz(input):\n",
    "     output = get_completion(input)\n",
    "     return output[0]['summary_text']\n"
   ]
  },
  {
   "cell_type": "code",
   "execution_count": null,
   "metadata": {},
   "outputs": [],
   "source": [
    "text  = (''' the tower is 324 metres(1063 ft) tall , about the same height  as an 81 - storey  building , and the tallest structure in paris.\n",
    "its base is sequare, measuring 125 metres (410 ft) on each side. During its construction , the Eiffl Tower surpassed the Washington  Monument \n",
    "to become the tallest man_made structure  in the world, a title  it held  for 41 years untill the Chrysler Building  in New York city\n",
    " was finished in 1930. It was the first structure  to reach the height of 300 metres  . Due to the addition of a broadcasting  aerial  at the top \n",
    " of the tower in 1957 , it is  now taller than the  Chrysler Building  by 5.2 metres(17 ft) . Excluding transmitters , the  Eiff Tower is the second \n",
    " tallest  free-standing  structure  in France after the  Millau Viaduct ''')\n",
    "\n",
    "get_completion(text)"
   ]
  },
  {
   "attachments": {},
   "cell_type": "markdown",
   "metadata": {},
   "source": [
    "### Getting started with Gradio \n",
    "- gr.Interface"
   ]
  },
  {
   "cell_type": "code",
   "execution_count": null,
   "metadata": {},
   "outputs": [],
   "source": [
    "import gradio as gr\n",
    "\n",
    "def  summarize (input):\n",
    "    output = get_completion(input)\n",
    "    return output[0]['summary_text']\n",
    "\n",
    "gr.close_all()\n",
    "demo = gr.Interface(fn= summarize , inputs = \"text\", outputs = \"text\")\n",
    "# demo launch  is to create a public link to share wth your team  and friends\n",
    "demo.launch(share= True, server_port = int(os.environ['PORT1']))    \n"
   ]
  },
  {
   "cell_type": "code",
   "execution_count": null,
   "metadata": {},
   "outputs": [],
   "source": [
    "import gradio as gr\n",
    "\n",
    "def  summarize (input):\n",
    "    output = get_completion(input)\n",
    "    return output[0]['summary_text']\n",
    "\n",
    "gr.close_all()\n",
    "demo = gr.Interface(fn= summarize ,\n",
    "                    inputs = [gr.Textbox(label = \"Text to summarize , lines = 6\")],\n",
    "                    outputs =[gr.Textbox(label = \"RTesult\" , lines = 3 )],\n",
    "                    title = \"Text summarization with distilbart-cnn\" , \n",
    "                    description = \" Summarize any text using the `shleifer/distilbart-cnn-12-6 ` model under the hood! \"\n",
    "                    )\n",
    "demo.launch(share=True , server_port= int(os.environ['PORT2']))                    "
   ]
  },
  {
   "attachments": {},
   "cell_type": "markdown",
   "metadata": {},
   "source": [
    "# Building the Named Entity Recognition App\n",
    "- I am using the this interface Endpoint  for dslim/bert-base-NER , \n",
    "a 108M parameters fine-tuned BART model on the NER task\n",
    "### How about running it locally?"
   ]
  },
  {
   "cell_type": "code",
   "execution_count": null,
   "metadata": {},
   "outputs": [],
   "source": [
    "from transformers import pipline\n",
    "\n",
    "get_completion = pipline\n",
    "(\"ner\" , model == 'dslim/bert-base-NER')\n",
    "\n",
    "def ner(input):\n",
    "    output = get_completion(input)\n",
    "\n",
    "    return  {\"text\" : input , \n",
    "    \"entities\" : output}"
   ]
  },
  {
   "cell_type": "code",
   "execution_count": null,
   "metadata": {},
   "outputs": [],
   "source": [
    "# NER endpoint\n",
    "API_URL = os.environ['HF_API_NER_BASE']\n",
    "texy = \" My name is Tayyaba , I'm building DeeplearningAI  and I live in Pakistan\"\n",
    "get_completion(text , parameters = None , ENDPOINT_URL = API_URL)"
   ]
  },
  {
   "cell_type": "code",
   "execution_count": null,
   "metadata": {},
   "outputs": [],
   "source": [
    "def ner(input):\n",
    "    output = get_completion(input,  parameters = None , ENDPOINT_URL = API_URL)\n",
    "    return {\"text\" : input  , \"entities\" : output}\n",
    "\n",
    "gr.close_all()\n",
    "demo = gr.Interface(fn= ner,\n",
    "                    inputs = [gr.Textbox(label= \" Text to find entities\" , lines = 2)],\n",
    "                    outputs = [gr.HighlightedText(label= \" Text with entities\")],\n",
    "                    title = \"NER with dslim/bert-base-NER \" ,\n",
    "                    description = \" Find entities using the `dslim/bert-base-NER` model under the hood!\",\n",
    "                    allow_flagging = \"never\",\n",
    "                    # Here I introduced  a new tag , example , easy to use example for your application\n",
    "                    example = [\"My name is Tayyaba and I live in Pakistan \", \" My name is Kashif and work at \" ]\n",
    "                    )   \n",
    "demo.launch(share= True , server_port= int(os.environ['PORT3']))                    "
   ]
  },
  {
   "attachments": {},
   "cell_type": "markdown",
   "metadata": {},
   "source": [
    "#### Adding the helping function to merage tokens"
   ]
  },
  {
   "cell_type": "code",
   "execution_count": null,
   "metadata": {},
   "outputs": [],
   "source": [
    "def merge_tokens(tokens):\n",
    "    merged_tokens = []\n",
    "    for token in token:\n",
    "        if merged_tokens and token['entity'].startswith('I-') and merged_tokens[-1]['entity'].endswith(token['entity'][2:]):\n",
    "            last_token = merged_tokens[-1]\n",
    "            last_token['word '] += token['word'].replace('## ', '')\n",
    "            last_token['end']  = token['end']\n",
    "            last_token['score '] = (last_token['score'] + token['score']) \"/System Volume Information\"\n",
    "        else:\n",
    "    # otherwise , add the token  to the list\n",
    "    merged_tokens.append(token)\n",
    "\n",
    "return merged_tokens\n",
    "\n",
    "def ner(input):\n",
    "    output = get_completion(input,  parameters = None , ENDPOINT_URL = API_URL)\n",
    "    merged_tokens = merge_token(output)\n",
    "    return {\"text\" : input  , \"entities\" : merged_tokens}\n",
    "\n",
    "\n",
    "gr.close_all()\n",
    "demo = gr.Interface(fn= ner,\n",
    "                    inputs = [gr.Textbox(label= \" Text to find entities\" , lines = 2)],\n",
    "                    outputs = [gr.HighlightedText(label= \" Text with entities\")],\n",
    "                    title = \"NER with dslim/bert-base-NER \" ,\n",
    "                    description = \" Find entities using the `dslim/bert-base-NER` model under the hood!\",\n",
    "                    allow_flagging = \"never\",\n",
    "                    # Here I introduced  a new tag , example , easy to use example for your application\n",
    "                    example = [\"My name is Tayyaba and I live in Pakistan \", \" My name is Kashif and work at \" ]\n",
    "                    )   \n",
    "\n",
    "demo.launch(share= True , server_port= int(os.environ['PORT4']))\n"
   ]
  },
  {
   "cell_type": "code",
   "execution_count": null,
   "metadata": {},
   "outputs": [],
   "source": [
    "gr.close_all()"
   ]
  }
 ],
 "metadata": {
  "kernelspec": {
   "display_name": "Python 3",
   "language": "python",
   "name": "python3"
  },
  "language_info": {
   "codemirror_mode": {
    "name": "ipython",
    "version": 3
   },
   "file_extension": ".py",
   "mimetype": "text/x-python",
   "name": "python",
   "nbconvert_exporter": "python",
   "pygments_lexer": "ipython3",
   "version": "3.11.4"
  },
  "orig_nbformat": 4
 },
 "nbformat": 4,
 "nbformat_minor": 2
}
